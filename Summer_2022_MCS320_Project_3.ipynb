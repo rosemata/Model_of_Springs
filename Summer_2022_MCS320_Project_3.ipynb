{
 "cells": [
  {
   "cell_type": "markdown",
   "metadata": {
    "collapsed": false
   },
   "source": [
    "# MCS 320 Project Three: Models of Springs"
   ]
  },
  {
   "cell_type": "markdown",
   "metadata": {
    "collapsed": false
   },
   "source": [
    "We use SageMath to explore a model of springs, solving a second order differential equation, plotting its solutions, and making an animation.\n",
    "\n",
    "#### 1. Stretching Rubber\n",
    "\n",
    "Consider a rubber band suspension from the ceiling with a mass attatched to it. The independent variable is time $t$ and we want to model the height of the mass by $y(t)$. The problem has three parameters:\n",
    "\n",
    "1. the mass $m$,\n",
    "2. the gravitational constant $g$, and\n",
    "3. the stretch coefficient $s$.\n",
    "\n",
    "All three parameters are positve numbers.\n",
    "The second order differential equation which governs the height of the mass is\n",
    "\n",
    "$$\n",
    "m \\frac {d^2}{dt^2}y(t) = - \\frac {mg}{s}y(t)\n",
    "$$\n",
    "\n",
    "The initial values are $y(0) = -1/5 $ and $ y'(0) = 0$\n",
    "\n",
    "# <u>Assignment One:</u>\n",
    "\n",
    "#### Define this problem using symbols m, g, and s for three parameters.\n",
    "\n",
    "#### 1.1 Compute the expression of the solution"
   ]
  },
  {
   "cell_type": "raw",
   "metadata": {
    "collapsed": false
   },
   "source": [
    "Let's define the variables we are going to use for our expression"
   ]
  },
  {
   "cell_type": "code",
   "execution_count": 1,
   "metadata": {
    "collapsed": false
   },
   "outputs": [
   ],
   "source": [
    "m = var('m', domain='positive') # mass\n",
    "g = var('g', domain='positive') # gravitational constant\n",
    "s = var('s', domain='positive') # stretch coefficient\n",
    "t = var('t', domain='positive') # time, independent variable"
   ]
  },
  {
   "cell_type": "raw",
   "metadata": {
    "collapsed": false
   },
   "source": [
    "Let's formulate differential equation\n",
    "set y as string representation"
   ]
  },
  {
   "cell_type": "code",
   "execution_count": 2,
   "metadata": {
    "collapsed": false
   },
   "outputs": [
   ],
   "source": [
    "y = function('y')(t)"
   ]
  },
  {
   "cell_type": "raw",
   "metadata": {
    "collapsed": false
   },
   "source": [
    "This is the Ordinary Differential Equation"
   ]
  },
  {
   "cell_type": "code",
   "execution_count": 3,
   "metadata": {
    "collapsed": false
   },
   "outputs": [
    {
     "data": {
      "text/html": [
       "<html>\\(\\displaystyle m \\frac{\\partial^{2}}{(\\partial t)^{2}}y\\left(t\\right) = -\\frac{g m y\\left(t\\right)}{s}\\)</html>"
      ],
      "text/latex": [
       "$\\displaystyle m \\frac{\\partial^{2}}{(\\partial t)^{2}}y\\left(t\\right) = -\\frac{g m y\\left(t\\right)}{s}$"
      ],
      "text/plain": [
       "m*diff(y(t), t, t) == -g*m*y(t)/s"
      ]
     },
     "execution_count": 3,
     "metadata": {
     },
     "output_type": "execute_result"
    }
   ],
   "source": [
    "ode = m*diff(y, 2) == (-m*g/s)*y\n",
    "show(ode)"
   ]
  },
  {
   "cell_type": "code",
   "execution_count": 4,
   "metadata": {
    "collapsed": false
   },
   "outputs": [
    {
     "data": {
      "text/plain": [
       "_K2*cos(sqrt(g)*t/sqrt(s)) + _K1*sin(sqrt(g)*t/sqrt(s))"
      ]
     },
     "execution_count": 4,
     "metadata": {
     },
     "output_type": "execute_result"
    }
   ],
   "source": [
    "# desolve\n",
    "# t as independent variable\n",
    "sol = desolve(ode, y, ivar=t)\n",
    "sol"
   ]
  },
  {
   "cell_type": "raw",
   "metadata": {
    "collapsed": false
   },
   "source": [
    "General Solution"
   ]
  },
  {
   "cell_type": "code",
   "execution_count": 5,
   "metadata": {
    "collapsed": false
   },
   "outputs": [
    {
     "data": {
      "text/plain": [
       "-1/5*cos(sqrt(g)*t/sqrt(s))"
      ]
     },
     "execution_count": 5,
     "metadata": {
     },
     "output_type": "execute_result"
    }
   ],
   "source": [
    "# initial conditions\n",
    "# [0,-1/5]\n",
    "# velocity = 0\n",
    "sol = desolve(ode, y, ivar=t, ics = [0, -1/5, 0])\n",
    "sol"
   ]
  },
  {
   "cell_type": "code",
   "execution_count": 6,
   "metadata": {
    "collapsed": false
   },
   "outputs": [
    {
     "data": {
      "text/html": [
       "<html>\\(\\displaystyle -\\frac{1}{5} \\, \\cos\\left(\\frac{\\sqrt{g} t}{\\sqrt{s}}\\right)\\)</html>"
      ],
      "text/latex": [
       "$\\displaystyle -\\frac{1}{5} \\, \\cos\\left(\\frac{\\sqrt{g} t}{\\sqrt{s}}\\right)$"
      ],
      "text/plain": [
       "-1/5*cos(sqrt(g)*t/sqrt(s))"
      ]
     },
     "execution_count": 6,
     "metadata": {
     },
     "output_type": "execute_result"
    }
   ],
   "source": [
    "sol.show()"
   ]
  },
  {
   "cell_type": "markdown",
   "metadata": {
    "collapsed": false
   },
   "source": [
    "#### 1.2 Use m = 2, g = 10, s = 0.01, as numerical values of the parameters and use the initial values to compute a particular solution."
   ]
  },
  {
   "cell_type": "code",
   "execution_count": 7,
   "metadata": {
    "collapsed": false
   },
   "outputs": [
    {
     "data": {
      "text/html": [
       "<html>\\(\\displaystyle -\\frac{1}{5} \\, \\cos\\left(10.0000000000000 \\, \\sqrt{10} t\\right)\\)</html>"
      ],
      "text/latex": [
       "$\\displaystyle -\\frac{1}{5} \\, \\cos\\left(10.0000000000000 \\, \\sqrt{10} t\\right)$"
      ],
      "text/plain": [
       "-1/5*cos(10.0000000000000*sqrt(10)*t)"
      ]
     },
     "execution_count": 7,
     "metadata": {
     },
     "output_type": "execute_result"
    }
   ],
   "source": [
    "# psol = particular solution\n",
    "# mass = 2\n",
    "# gravitational constant = 10\n",
    "# stretch coefficient = 0.01\n",
    "psol = sol(m=2, g=10, s=0.01)\n",
    "psol.show()"
   ]
  },
  {
   "cell_type": "markdown",
   "metadata": {
    "collapsed": false
   },
   "source": [
    "#### 1.3 Compute the period P of the numerical solution: y(P) = y(0). The solution y(t) makes one full cycle for t ∈ [0, $P$]"
   ]
  },
  {
   "cell_type": "code",
   "execution_count": 8,
   "metadata": {
    "collapsed": false
   },
   "outputs": [
    {
     "data": {
      "text/plain": [
       "-1/5"
      ]
     },
     "execution_count": 8,
     "metadata": {
     },
     "output_type": "execute_result"
    }
   ],
   "source": [
    "# initial value y(0) = -1/5\n",
    "def y(t):\n",
    "    if (t == 0):\n",
    "        return -1/5\n",
    "\n",
    "y(P) = y(0)\n",
    "y(P)"
   ]
  },
  {
   "cell_type": "markdown",
   "metadata": {
    "collapsed": false
   },
   "source": [
    "#### 1.4 Make a plot of y(t) for y ∈ [0, $P$]"
   ]
  },
  {
   "cell_type": "code",
   "execution_count": 9,
   "metadata": {
    "collapsed": false
   },
   "outputs": [
    {
     "data": {
      "image/png": "[encoded data removed]",
      "text/plain": [
       "Graphics object consisting of 1 graphics primitive"
      ]
     },
     "execution_count": 9,
     "metadata": {
     },
     "output_type": "execute_result"
    }
   ],
   "source": [
    "# plot particular solution, between [0, pi]\n",
    "# A simple cos(t) has period 2*pi, and cos(2*t) runs twice as fast, so the period is pi.\n",
    "plot(psol, (t, 0, pi))"
   ]
  },
  {
   "cell_type": "code",
   "execution_count": 10,
   "metadata": {
    "collapsed": false
   },
   "outputs": [
    {
     "data": {
      "text/plain": [
       "0.200000000000000"
      ]
     },
     "execution_count": 10,
     "metadata": {
     },
     "output_type": "execute_result"
    }
   ],
   "source": [
    "# initial angle\n",
    "RR(1/5)"
   ]
  },
  {
   "cell_type": "code",
   "execution_count": 11,
   "metadata": {
    "collapsed": false
   },
   "outputs": [
    {
     "data": {
      "text/plain": [
       "0.198669330795061"
      ]
     },
     "execution_count": 11,
     "metadata": {
     },
     "output_type": "execute_result"
    }
   ],
   "source": [
    "sin(RR(1)/5)"
   ]
  },
  {
   "cell_type": "markdown",
   "metadata": {
    "collapsed": false
   },
   "source": [
    "# <u>Assignment Two:</u>\n",
    "\n",
    "#### Make an animation with 20 frames as shown below:"
   ]
  },
  {
   "cell_type": "markdown",
   "metadata": {
    "collapsed": false
   },
   "source": [
    "The ceiling is set at y = 1, which is the maximum value for y in the animation window. \n",
    "\n",
    "The minimum value for y is set at −1. \n",
    "\n",
    "The height y(t) is computed by the particular solution of Assignment One. \n",
    "\n",
    "The size of the point which represents the mass is 200 and remains fixed during the simulation."
   ]
  },
  {
   "cell_type": "markdown",
   "metadata": {
    "collapsed": false
   },
   "source": [
    "###### To simulate the stretching of the rubber band, the thickness starts at one and increases by one in each frame as the mass moves up. When the mass moves down, the thickness decreases by one in each step. Observe that the mass is at its highest point in the eleventh frame."
   ]
  },
  {
   "cell_type": "code",
   "execution_count": 12,
   "metadata": {
    "collapsed": false
   },
   "outputs": [
   ],
   "source": [
    "# The height y(t) is computed by the particular solution of Assignment One.\n",
    "y(t) = psol\n",
    "def height(k):\n",
    "    if (k < 11):\n",
    "        return y(k)\n",
    "    if (k == 11): return y(10)\n",
    "    if (k == 12): return y(9)\n",
    "    if (k == 13): return y(8)\n",
    "    if (k == 14): return y(7)\n",
    "    if (k == 15): return y(6)\n",
    "    if (k == 16): return y(5)\n",
    "    if (k == 17): return y(4)\n",
    "    if (k == 18): return y(3)\n",
    "    if (k == 19): return y(2)\n",
    "    if (k == 20): return y(1)\n",
    "def thickness(k):\n",
    "    if (k < 11): return k\n",
    "    if (k == 11): return 10\n",
    "    if (k == 12): return 9\n",
    "    if (k == 13): return 8\n",
    "    if (k == 14): return 7\n",
    "    if (k == 15): return 6\n",
    "    if (k == 16): return 5\n",
    "    if (k == 17): return 4\n",
    "    if (k == 18): return 3\n",
    "    if (k == 19): return 2\n",
    "    if (k == 20): return 1"
   ]
  },
  {
   "cell_type": "code",
   "execution_count": 13,
   "metadata": {
    "collapsed": false
   },
   "outputs": [
    {
     "data": {
      "image/png": "[encoded data removed]",
      "text/plain": [
       "Graphics Array of size 2 x 10"
      ]
     },
     "execution_count": 13,
     "metadata": {
     },
     "output_type": "execute_result"
    }
   ],
   "source": [
    "movinglines = [line([(0,-1),(2,-1),(2,1.1),(0,1.1), (0,-1)], color='black') # border\n",
    "               + point((1,height(k)), color='orange',size=200) # point size, start from 1, to height(k) which is particular solution from problem 1\n",
    "               + line([(1,1),(1, height(k))],color='orange', thickness=thickness(k)) # line with height = y(t), and thickness(k)\n",
    "               for k in range(1,21)]\n",
    "\n",
    "a = animate(movinglines,figsize=1,xmin=-1,xmax=1,ymin=-1,ymax=1)\n",
    "g = a.graphics_array(ncols=10)\n",
    "g.show(axes=False, figsize=[6,3])"
   ]
  },
  {
   "cell_type": "markdown",
   "metadata": {
    "collapsed": false
   },
   "source": [
    "# <u>Assignment Three:</u>\n",
    "\n",
    "#### Use the frames of the animation to make an interact:"
   ]
  },
  {
   "cell_type": "markdown",
   "metadata": {
    "collapsed": false
   },
   "source": [
    "###### The parameter in the slider is the frame number, which ranges from 0 to 19, incrementing by 1, and initially set at 10."
   ]
  },
  {
   "cell_type": "code",
   "execution_count": 14,
   "metadata": {
    "collapsed": false
   },
   "outputs": [
    {
     "data": {
      "application/vnd.jupyter.widget-view+json": {
       "model_id": "e49db3a8e2ed4765b9929ebcdf0750ee",
       "version_major": 2,
       "version_minor": 0
      },
      "text/plain": [
       "Interactive function <function frame at 0x7fddfa1aa9e0> with 1 widget\n",
       "  x0: TransformIntSlider(value=10, descr…"
      ]
     },
     "execution_count": 14,
     "metadata": {
     },
     "output_type": "execute_result"
    }
   ],
   "source": [
    "@interact\n",
    "def frame(x0 = slider(0, 19, 1,10, label='frame no')):\n",
    "    P1 = line([(-1,0),(1,0)],color = 'black', ymin=-1, ymax=1)\n",
    "    P2 = point((0, height(x0)), color='orange', size=200)\n",
    "    P3 = line([(0,1),(0, height(x0))],color='orange', thickness=thickness(x0))\n",
    "    P = P1 + P2 + P3\n",
    "    P.show(figsize=6)"
   ]
  },
  {
   "cell_type": "markdown",
   "metadata": {
    "collapsed": false
   },
   "source": [
    "#### 2. Adding Damping"
   ]
  },
  {
   "cell_type": "markdown",
   "metadata": {
    "collapsed": false
   },
   "source": [
    "Adding damping, we can model a car suspension mechanism. Imagine what happens when a car hits pothole or a bump in the road.\n",
    "\n",
    "The second order differential equation which governs the height with damping coefficient $b$ is\n",
    "\n",
    "$$\n",
    "m \\frac {d^2}{dt^2}y(t) = -b \\frac {d}{dt}y(t) - \\frac{mg}{s}y(t)\n",
    "$$"
   ]
  },
  {
   "cell_type": "markdown",
   "metadata": {
    "collapsed": false
   },
   "source": [
    "# <u>Assignment Four:</u>"
   ]
  },
  {
   "cell_type": "markdown",
   "metadata": {
    "collapsed": false
   },
   "source": [
    "#### Define this problem symbolically:\n",
    "\n",
    "1. Compute an expression for the solution, assuming, $b^2 - 4gm^2 > 0$\n",
    "2. Use b = 25, s = 0.1, g = 10, m =1 for the values of parameters and the initial values y(0) = 0.1 = 0 to compute a particular solution.\n",
    "3. Make a plot of the solution for t E [0,1]"
   ]
  },
  {
   "cell_type": "code",
   "execution_count": 15,
   "metadata": {
    "collapsed": false
   },
   "outputs": [
   ],
   "source": [
    "reset()"
   ]
  },
  {
   "cell_type": "markdown",
   "metadata": {
    "collapsed": false
   },
   "source": [
    "Let's define the variables we are going to use for our expression"
   ]
  },
  {
   "cell_type": "code",
   "execution_count": 16,
   "metadata": {
    "collapsed": false
   },
   "outputs": [
   ],
   "source": [
    "b = var('b', domain='positive')\n",
    "s = var('s', domain='positive')\n",
    "g = var('g', domain='positive')\n",
    "m = var('m', domain='positive')\n",
    "y = var('y', domain='positive')"
   ]
  },
  {
   "cell_type": "markdown",
   "metadata": {
    "collapsed": false
   },
   "source": [
    "$$\n",
    "\\frac {d}{dt}y(t) = -by(t) - \\frac{mg}{s}y(t)\n",
    "$$"
   ]
  },
  {
   "cell_type": "code",
   "execution_count": 17,
   "metadata": {
    "collapsed": false
   },
   "outputs": [
    {
     "data": {
      "text/plain": [
       "[y, -125.000000000000*y]"
      ]
     },
     "execution_count": 17,
     "metadata": {
     },
     "output_type": "execute_result"
    }
   ],
   "source": [
    "b = 25\n",
    "s = 0.1\n",
    "g = 10\n",
    "m = 1\n",
    "rhs = [y, -b*y - (m*g/s)*y]\n",
    "rhs"
   ]
  },
  {
   "cell_type": "code",
   "execution_count": 18,
   "metadata": {
    "collapsed": false
   },
   "outputs": [
    {
     "data": {
      "text/plain": [
       "[1, 0]"
      ]
     },
     "execution_count": 18,
     "metadata": {
     },
     "output_type": "execute_result"
    }
   ],
   "source": [
    "initc = [1, 0]\n",
    "initc"
   ]
  },
  {
   "cell_type": "code",
   "execution_count": 19,
   "metadata": {
    "collapsed": false
   },
   "outputs": [
   ],
   "source": [
    "endtime = 2*RR(pi)\n",
    "step = 0.1\n",
    "timerange = srange(0, endtime, step)"
   ]
  },
  {
   "cell_type": "code",
   "execution_count": 20,
   "metadata": {
    "collapsed": false
   },
   "outputs": [
   ],
   "source": [
    "sol = desolve_odeint(rhs, initc, timerange,[y,y])"
   ]
  },
  {
   "cell_type": "code",
   "execution_count": 21,
   "metadata": {
    "collapsed": false
   },
   "outputs": [
   ],
   "source": [
    "angles = sol[:, 0]\n",
    "pts = [(x, y) for (x, y) in zip(timerange, angles)]"
   ]
  },
  {
   "cell_type": "code",
   "execution_count": 22,
   "metadata": {
    "collapsed": false
   },
   "outputs": [
   ],
   "source": [
    "p = line(pts)"
   ]
  },
  {
   "cell_type": "code",
   "execution_count": 23,
   "metadata": {
    "collapsed": false
   },
   "outputs": [
    {
     "data": {
      "image/png": "[encoded data removed]",
      "text/plain": [
       "Graphics object consisting of 1 graphics primitive"
      ]
     },
     "execution_count": 23,
     "metadata": {
     },
     "output_type": "execute_result"
    }
   ],
   "source": [
    "p.show()"
   ]
  },
  {
   "cell_type": "code",
   "execution_count": 0,
   "metadata": {
    "collapsed": false
   },
   "outputs": [
   ],
   "source": [
   ]
  }
 ],
 "metadata": {
  "kernelspec": {
   "display_name": "SageMath 9.6",
   "language": "sagemath",
   "metadata": {
    "cocalc": {
     "description": "Open-source mathematical software system",
     "priority": 10,
     "url": "https://www.sagemath.org/"
    }
   },
   "name": "sage-9.6",
   "resource_dir": "/ext/jupyter/kernels/sage-9.6"
  },
  "language_info": {
   "codemirror_mode": {
    "name": "ipython",
    "version": 3
   },
   "file_extension": ".py",
   "mimetype": "text/x-python",
   "name": "python",
   "nbconvert_exporter": "python",
   "pygments_lexer": "ipython3",
   "version": "3.10.3"
  }
 },
 "nbformat": 4,
 "nbformat_minor": 4
}